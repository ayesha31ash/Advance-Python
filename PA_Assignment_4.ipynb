{
  "nbformat": 4,
  "nbformat_minor": 0,
  "metadata": {
    "colab": {
      "provenance": [],
      "collapsed_sections": []
    },
    "kernelspec": {
      "name": "python3",
      "display_name": "Python 3"
    },
    "language_info": {
      "name": "python"
    }
  },
  "cells": [
    {
      "cell_type": "markdown",
      "source": [
        "Q1. Which two operator overloading methods can you use in your classes to support iteration?"
      ],
      "metadata": {
        "id": "cAmwqWQrMvpU"
      }
    },
    {
      "cell_type": "markdown",
      "source": [
        "`__iter__` and `__next__ `are the operator overloading methods in python that support iteration and are collectively called iterator protocol.\n",
        "\n",
        "* `__iter__` returns the iterator object and is called at the start of loop in our respective class.\n",
        "* `__next__ `is called at each loop increment, it returns the incremented value. Also Stopiteration is raised when there is no value to return"
      ],
      "metadata": {
        "id": "gIfC5AImNAAv"
      }
    },
    {
      "cell_type": "code",
      "source": [
        "class Counter:\n",
        "    def __init__(self,low,high):\n",
        "        self.current = low\n",
        "        self.high = high\n",
        "    def __iter__(self):\n",
        "        return self\n",
        "    def __next__(self):\n",
        "        if self.current > self.high:\n",
        "            raise StopIteration\n",
        "        else:\n",
        "            self.current += 1\n",
        "            return self.current - 1\n",
        "for ele in Counter(5,15):\n",
        "    print(ele, end=\" \")"
      ],
      "metadata": {
        "colab": {
          "base_uri": "https://localhost:8080/"
        },
        "id": "nUKwpXRtNJNh",
        "outputId": "9db4e701-7c8b-4895-c628-7a44c28bb2dd"
      },
      "execution_count": 1,
      "outputs": [
        {
          "output_type": "stream",
          "name": "stdout",
          "text": [
            "5 6 7 8 9 10 11 12 13 14 15 "
          ]
        }
      ]
    },
    {
      "cell_type": "markdown",
      "source": [
        "Q2. In what contexts do the two operator overloading methods manage printing?"
      ],
      "metadata": {
        "id": "Kq2mK4ZKMvly"
      }
    },
    {
      "cell_type": "markdown",
      "source": [
        "`__str__` and` __repr__` are two operator overloading methods that manage printing.\n",
        "\n",
        "* In Short, the difference between both these operators is the goal of `__repr__ `is to be unambiguous and `__str__ `is to be readable.\n",
        "* Whenever we are printing any object reference internally `__str__ `method will be called by default.\n",
        "* The main purpose of `__str__ `is for readability. it prints the informal string representation of an object, one that is useful for printing the object. it may not be possible to convert result string to original object.\n",
        "* `__repr__ `is used to print official string representation of an object, so it includes all information and development."
      ],
      "metadata": {
        "id": "EHAJvhx8NM5P"
      }
    },
    {
      "cell_type": "code",
      "source": [
        "class Student:\n",
        "    def __init__(self,name,roll_no):\n",
        "        self.name = name\n",
        "        self.roll_no = roll_no\n",
        "        \n",
        "s1 = Student(\"Mano\",1)\n",
        "print(str(s1))\n",
        "\n",
        "class Student:\n",
        "    def __init__(self,name,roll_no):\n",
        "        self.name = name\n",
        "        self.roll_no = roll_no\n",
        "    def __str__(self):\n",
        "        return f'Student Name: {self.name} and Roll No: {self.roll_no}'\n",
        "    \n",
        "s1 = Student(\"Mano\",1)\n",
        "print(str(s1))\n",
        "\n",
        "import datetime\n",
        "today = datetime.datetime.now()\n",
        "\n",
        "s = str(today) # converting datetime object to presentable str\n",
        "print(s)\n",
        "try: d = eval(s) # converting str back to datetime object\n",
        "except: print(\"Unable to convert back to original object\")\n",
        "    \n",
        "u = repr(today) # converting datetime object to str\n",
        "print(u)\n",
        "e = eval(u) # converting str back to datetime object\n",
        "print(e)"
      ],
      "metadata": {
        "colab": {
          "base_uri": "https://localhost:8080/"
        },
        "id": "EN1rhCNcNhvC",
        "outputId": "6864c956-2157-4b4e-b68e-a7ca5f097afe"
      },
      "execution_count": 2,
      "outputs": [
        {
          "output_type": "stream",
          "name": "stdout",
          "text": [
            "<__main__.Student object at 0x7f41dfb24950>\n",
            "Student Name: Mano and Roll No: 1\n",
            "2022-10-31 18:03:21.477626\n",
            "Unable to convert back to original object\n",
            "datetime.datetime(2022, 10, 31, 18, 3, 21, 477626)\n",
            "2022-10-31 18:03:21.477626\n"
          ]
        }
      ]
    },
    {
      "cell_type": "markdown",
      "source": [
        "Q3. In a class, how do you intercept slice operations?"
      ],
      "metadata": {
        "id": "JPFxC6ceMzrd"
      }
    },
    {
      "cell_type": "markdown",
      "source": [
        " In a class use of` slice() `in `__getitem__` method is used for intercept slice operation. This slice method is provided with start integer number, stop integer number and step integer number.\n",
        "\n",
        "**Example**: `__getitem__(slice(start,stop,step))`"
      ],
      "metadata": {
        "id": "oMWxyxzsNpjN"
      }
    },
    {
      "cell_type": "markdown",
      "source": [
        "Q4. In a class, how do you capture in-place addition?"
      ],
      "metadata": {
        "id": "_lJ4ivffM1uf"
      }
    },
    {
      "cell_type": "markdown",
      "source": [
        " `a+b `is normal addition. Whereas `a+=b `is inplace addition operation. In this in-place addition `a` itself will store the value of addition. In a class `__iadd__` method is used for this in-place operation"
      ],
      "metadata": {
        "id": "lhFL9743N3Kn"
      }
    },
    {
      "cell_type": "code",
      "source": [
        "class Book:\n",
        "    def __init__(self,pages):\n",
        "        self.pages = pages\n",
        "    def __iadd__(self,other):\n",
        "        self.pages += other.pages\n",
        "        return self.pages\n",
        "        \n",
        "b1 = Book(100)\n",
        "b2 = Book(200)\n",
        "b1+=b2\n",
        "print(b1)"
      ],
      "metadata": {
        "colab": {
          "base_uri": "https://localhost:8080/"
        },
        "id": "WTbU7_bPOAyW",
        "outputId": "9783c7a5-9e88-47ea-9a66-b83d2146dc7a"
      },
      "execution_count": 3,
      "outputs": [
        {
          "output_type": "stream",
          "name": "stdout",
          "text": [
            "300\n"
          ]
        }
      ]
    },
    {
      "cell_type": "markdown",
      "source": [
        "Q5. When is it appropriate to use operator overloading?"
      ],
      "metadata": {
        "id": "zC0_O8cFM3Y3"
      }
    },
    {
      "cell_type": "markdown",
      "source": [
        "Operator overloading is used when we want to use an operator other than its normal operation to have different meaning according to the context required in user defined function."
      ],
      "metadata": {
        "id": "Y-R9qYBqODkN"
      }
    },
    {
      "cell_type": "code",
      "execution_count": 4,
      "metadata": {
        "colab": {
          "base_uri": "https://localhost:8080/"
        },
        "id": "xiqlG_a_Mtpo",
        "outputId": "e80a68f2-a550-46b3-e0ee-29ef1d20deb0"
      },
      "outputs": [
        {
          "output_type": "stream",
          "name": "stdout",
          "text": [
            "Total Number of Pages -> 300\n"
          ]
        }
      ],
      "source": [
        "class Book:\n",
        "    def __init__(self,pages):\n",
        "        self.pages = pages\n",
        "    def __add__(self,other):\n",
        "        return self.pages+other.pages\n",
        "b1 = Book(100)\n",
        "b2 = Book(200)\n",
        "print(f'Total Number of Pages -> {b1+b2}')"
      ]
    }
  ]
}