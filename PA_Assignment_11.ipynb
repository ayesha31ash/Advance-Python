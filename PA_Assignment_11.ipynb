{
  "nbformat": 4,
  "nbformat_minor": 0,
  "metadata": {
    "colab": {
      "provenance": [],
      "collapsed_sections": []
    },
    "kernelspec": {
      "name": "python3",
      "display_name": "Python 3"
    },
    "language_info": {
      "name": "python"
    }
  },
  "cells": [
    {
      "cell_type": "markdown",
      "source": [
        "Q1. What is the concept of a metaclass?"
      ],
      "metadata": {
        "id": "2oUDx4PhToac"
      }
    },
    {
      "cell_type": "markdown",
      "source": [
        " Metaclass in Python is a class of a class that defines how a class behaves. A class is itself a instance of Metaclass, and any Instance of Class in Python is an Instance of type metaclass. E.g. Type of of `int`, `str`, `float`, `list`, `tuple` and many more is of metaclass type."
      ],
      "metadata": {
        "id": "fLam-g8-T0wS"
      }
    },
    {
      "cell_type": "markdown",
      "source": [
        "Q2. What is the best way to declare a class&#39;s metaclass?"
      ],
      "metadata": {
        "id": "jCIdyFiHTpqe"
      }
    },
    {
      "cell_type": "markdown",
      "source": [
        " A way to declare a class’ metaclass is by using **`metaclass`** keyword in class definition."
      ],
      "metadata": {
        "id": "R0FeZNQIT9ff"
      }
    },
    {
      "cell_type": "code",
      "source": [
        "class meta(type):\n",
        "    pass\n",
        "class class_meta(metaclass=meta):\n",
        "    pass\n",
        "print(type(meta))\n",
        "print(type(class_meta))"
      ],
      "metadata": {
        "id": "fDH8Be5TUArq"
      },
      "execution_count": null,
      "outputs": []
    },
    {
      "cell_type": "markdown",
      "source": [
        "Q3. How do class decorators overlap with metaclasses for handling classes?"
      ],
      "metadata": {
        "id": "2WvrqNs2TrYj"
      }
    },
    {
      "cell_type": "markdown",
      "source": [
        ": Anything you can do with a class decorator, you can of course do with a custom metaclasses (just apply the functionality of the \"decorator function\", i.e., the one that takes a class object and modifies it, in the course of the metaclass's `__new__` or `__init__` that make the class object!)."
      ],
      "metadata": {
        "id": "XiR6-qeaUGXT"
      }
    },
    {
      "cell_type": "markdown",
      "source": [
        "Q4. How do class decorators overlap with metaclasses for handling instances?"
      ],
      "metadata": {
        "id": "x9Vhpc5ITu9h"
      }
    },
    {
      "cell_type": "markdown",
      "source": [
        " Anything you can do with a class decorator, you can of course do with a custom metaclass (just apply the functionality of the \"decorator function\", i.e., the one that takes a class object and modifies it, in the course of the metaclass's `__new__` or `__init__` that make the class object!)."
      ],
      "metadata": {
        "id": "8aQFOpsLUMBJ"
      }
    },
    {
      "cell_type": "code",
      "execution_count": null,
      "metadata": {
        "id": "UxsCBIwkNyFo"
      },
      "outputs": [],
      "source": []
    }
  ]
}