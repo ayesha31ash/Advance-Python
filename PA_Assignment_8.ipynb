{
  "nbformat": 4,
  "nbformat_minor": 0,
  "metadata": {
    "colab": {
      "provenance": [],
      "collapsed_sections": []
    },
    "kernelspec": {
      "name": "python3",
      "display_name": "Python 3"
    },
    "language_info": {
      "name": "python"
    }
  },
  "cells": [
    {
      "cell_type": "markdown",
      "source": [
        "Q1. What are the two latest user-defined exception constraints in Python 3.X?"
      ],
      "metadata": {
        "id": "HL23QVBXGif7"
      }
    },
    {
      "cell_type": "markdown",
      "source": [
        "`raise` and `assert` are the two latest user-defined exception constraints in Python 3.X"
      ],
      "metadata": {
        "id": "us7hEMxjqwka"
      }
    },
    {
      "cell_type": "markdown",
      "source": [
        "Q2. How are class-based exceptions that have been raised matched to handlers?"
      ],
      "metadata": {
        "id": "at-IFTYdGoKW"
      }
    },
    {
      "cell_type": "markdown",
      "source": [
        "In python, Users can define custom exceptions by creating a new class. This exception class has to be derived, either directly or indirectly from built-in Exception class. This new exception class like other exceptions can be raised using the raise statement with an optional error message."
      ],
      "metadata": {
        "id": "Mp-SJiNdqzhv"
      }
    },
    {
      "cell_type": "code",
      "source": [
        "class ToYoungException(Exception):\n",
        "    def __init__(self,msg):\n",
        "        self.msg = msg\n",
        "age = 12\n",
        "if age <= 18: raise ToYoungException('To Young For Voting')"
      ],
      "metadata": {
        "id": "FNRXVyScq3le"
      },
      "execution_count": null,
      "outputs": []
    },
    {
      "cell_type": "markdown",
      "source": [
        "Q3. Describe two methods for attaching context information to exception artefacts."
      ],
      "metadata": {
        "id": "ztVsNodUGqMg"
      }
    },
    {
      "cell_type": "markdown",
      "source": [
        "The` process()` method of LoggerAdapter is where the contextual information is added to the logging output. its passes the message and keyword arguments of the logging call, and it passes back modified versions of these to use in the call to the underlying logger.\n",
        "\n",
        "Other method that can be used is `exception()`, Logs a messgae with level ERROR on this logger. The arguments are interpreted as for debug(). Exception info is added to the logging message."
      ],
      "metadata": {
        "id": "EQXuo7HDrXxE"
      }
    },
    {
      "cell_type": "markdown",
      "source": [
        "Q4. Describe two methods for specifying the text of an exception object&#39;s error message."
      ],
      "metadata": {
        "id": "gE8TfiVyGyZa"
      }
    },
    {
      "cell_type": "markdown",
      "source": [
        "`raise` and `assert` are two methods for specifying the text of an exception object's error message.raise statement is used to trigger explicit exception, if certain condition is not as per requirement of programmer. it helps in triggering exception as per need of programmer and logic.\n",
        "\n",
        "There are few assertions that programmer always want to be True to avoid code failure. This type of requirment is fullfilled by `assert` statement. This statement takes a Boolean Condition output of which if True, further program executes. if output of assert statement is False it raises an `Assertion Error`."
      ],
      "metadata": {
        "id": "mqNeG61creTl"
      }
    },
    {
      "cell_type": "markdown",
      "source": [
        "Q5. Why do you no longer use string-based exceptions?"
      ],
      "metadata": {
        "id": "D0U6cV91G4Eq"
      }
    },
    {
      "cell_type": "markdown",
      "source": [
        "String-based Exceptions doesn't inherit from Exceptions. so plain exceptions catch all exceptions and not only system."
      ],
      "metadata": {
        "id": "T_N6togxrubS"
      }
    },
    {
      "cell_type": "code",
      "execution_count": null,
      "metadata": {
        "id": "B-gEDruH6YCt"
      },
      "outputs": [],
      "source": []
    }
  ]
}