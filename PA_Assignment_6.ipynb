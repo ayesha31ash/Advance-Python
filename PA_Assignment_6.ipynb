{
  "nbformat": 4,
  "nbformat_minor": 0,
  "metadata": {
    "colab": {
      "provenance": [],
      "collapsed_sections": []
    },
    "kernelspec": {
      "name": "python3",
      "display_name": "Python 3"
    },
    "language_info": {
      "name": "python"
    }
  },
  "cells": [
    {
      "cell_type": "markdown",
      "source": [
        "Q1. Describe three applications for exception processing."
      ],
      "metadata": {
        "id": "NYuoxbmTQ4ex"
      }
    },
    {
      "cell_type": "markdown",
      "source": [
        " Exception Processing is important to find exceptions that causes the runtime error. As runtime errors Halt the program execution when exception occurs.\n",
        "\n",
        "Exception Processing is used in Various Applications of which few examples are:\n",
        "\n",
        "1. Checking Appropriate use of input in an application\n",
        "2. Checking for Arithmetic exceptions in mathematical executions\n",
        "3. Checking File I/O exceptions during File handling"
      ],
      "metadata": {
        "id": "Zb-ve60MjHLZ"
      }
    },
    {
      "cell_type": "markdown",
      "source": [
        "Q2. What happens if you don&#39;t do something extra to treat an exception?"
      ],
      "metadata": {
        "id": "0-iF-L_8Q82l"
      }
    },
    {
      "cell_type": "markdown",
      "source": [
        "If Exceptions are not handled flow of program will be broken during the run time which might lead to a abnormal termination of the program. Inshort inability of program to handle exceptions will result in crashing of program."
      ],
      "metadata": {
        "id": "Yi-iLrY1jNS9"
      }
    },
    {
      "cell_type": "markdown",
      "source": [
        "Q3. What are your options for recovering from an exception in your script?"
      ],
      "metadata": {
        "id": "DvBZE29fQ_91"
      }
    },
    {
      "cell_type": "markdown",
      "source": [
        "Python provides` try` and `except` statements for recovering from an exception in your script."
      ],
      "metadata": {
        "id": "WoC2ZXTkjVQK"
      }
    },
    {
      "cell_type": "markdown",
      "source": [
        "Q4. Describe two methods for triggering exceptions in your script."
      ],
      "metadata": {
        "id": "SqATRfLnRB3-"
      }
    },
    {
      "cell_type": "markdown",
      "source": [
        " raise and assert are two methods that can be used to trigger manual exceptions in your script.\n",
        "\n",
        "* `raise` method triggers an exception if condition provided to it turns out to be True.\n",
        "* `assert` will let the program to continue execution if condition provided to it turns out to be True else exception will be raised"
      ],
      "metadata": {
        "id": "EszlCdzcjpNU"
      }
    },
    {
      "cell_type": "code",
      "source": [
        "# Example of raise\n",
        "x = 10\n",
        "raise Exception(f'X Value Should not exceed 5 The Provided Value of X is {x}')"
      ],
      "metadata": {
        "id": "x-3Z-JLjj6WJ"
      },
      "execution_count": null,
      "outputs": []
    },
    {
      "cell_type": "code",
      "source": [
        "# Example of assert\n",
        "assert(2==4), \"2 is not equal to 4\""
      ],
      "metadata": {
        "id": "lST8R2lijxK2"
      },
      "execution_count": null,
      "outputs": []
    },
    {
      "cell_type": "markdown",
      "source": [
        "Q5. Identify two methods for specifying actions to be executed at termination time, regardless of\n",
        "whether or not an exception exists."
      ],
      "metadata": {
        "id": "z56ICErxREaA"
      }
    },
    {
      "cell_type": "markdown",
      "source": [
        " Python Provides `else` and `finally` blocks for specifying actions to be executed at termination time, regardless of whether an exceptions exists or not."
      ],
      "metadata": {
        "id": "vLno0VuKkA4X"
      }
    },
    {
      "cell_type": "code",
      "execution_count": null,
      "metadata": {
        "id": "AXG9kLLdPof-"
      },
      "outputs": [],
      "source": []
    }
  ]
}