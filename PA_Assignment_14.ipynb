{
  "nbformat": 4,
  "nbformat_minor": 0,
  "metadata": {
    "colab": {
      "provenance": []
    },
    "kernelspec": {
      "name": "python3",
      "display_name": "Python 3"
    },
    "language_info": {
      "name": "python"
    }
  },
  "cells": [
    {
      "cell_type": "markdown",
      "source": [
        "Q1. Is an assignment operator like += only for show? Is it possible that it would lead to faster results\n",
        "at the runtime?"
      ],
      "metadata": {
        "id": "uTaHbcQoNTBB"
      }
    },
    {
      "cell_type": "markdown",
      "source": [
        "A=A+1 evaluates to finding `A`, adding 1 to it. Then storing the value again in variable `A`. This expression makes Python to look for memory holder of a twice. But `A+=1` simply means value of `A` is to incremented by 1. As memory address has to be identified once, `+=` leads to faster operation."
      ],
      "metadata": {
        "id": "HkHoYByw7P6q"
      }
    },
    {
      "cell_type": "markdown",
      "source": [
        "Q2. What is the smallest number of statements you&#39;d have to write in most programming languages to\n",
        "replace the Python expression a, b = a + b, a?"
      ],
      "metadata": {
        "id": "nR0279AkOUNd"
      }
    },
    {
      "cell_type": "markdown",
      "source": [
        "Minimum number of lines required to write above code in languages other Python will be 4, two for assigning initial values for variables `a` and `b`, and two for reassignment i.e. `a=a+b` and `b=a`."
      ],
      "metadata": {
        "id": "Hmfn2DZsLd8F"
      }
    },
    {
      "cell_type": "markdown",
      "source": [
        "Q3. In Python, what is the most effective way to set a list of 100 integers to 0?"
      ],
      "metadata": {
        "id": "SzGot1F6OfuK"
      }
    },
    {
      "cell_type": "markdown",
      "source": [
        "he Most effective way to set a list of 100 integers to 0 in python is by using repition operator`(*)` or by using list comprehension."
      ],
      "metadata": {
        "id": "8HLG1C99MTEq"
      }
    },
    {
      "cell_type": "code",
      "source": [
        "# Method 1\n",
        "list_zero=[0]*100\n",
        "print(list_zero)\n",
        "# Method 2\n",
        "zero_list = [0 for x in range(100)]\n",
        "print(zero_list)"
      ],
      "metadata": {
        "colab": {
          "base_uri": "https://localhost:8080/"
        },
        "id": "Sv5QV6abJB1t",
        "outputId": "cbbced87-7fa8-4248-a52f-ff55e58575c5"
      },
      "execution_count": 1,
      "outputs": [
        {
          "output_type": "stream",
          "name": "stdout",
          "text": [
            "[0, 0, 0, 0, 0, 0, 0, 0, 0, 0, 0, 0, 0, 0, 0, 0, 0, 0, 0, 0, 0, 0, 0, 0, 0, 0, 0, 0, 0, 0, 0, 0, 0, 0, 0, 0, 0, 0, 0, 0, 0, 0, 0, 0, 0, 0, 0, 0, 0, 0, 0, 0, 0, 0, 0, 0, 0, 0, 0, 0, 0, 0, 0, 0, 0, 0, 0, 0, 0, 0, 0, 0, 0, 0, 0, 0, 0, 0, 0, 0, 0, 0, 0, 0, 0, 0, 0, 0, 0, 0, 0, 0, 0, 0, 0, 0, 0, 0, 0, 0]\n",
            "[0, 0, 0, 0, 0, 0, 0, 0, 0, 0, 0, 0, 0, 0, 0, 0, 0, 0, 0, 0, 0, 0, 0, 0, 0, 0, 0, 0, 0, 0, 0, 0, 0, 0, 0, 0, 0, 0, 0, 0, 0, 0, 0, 0, 0, 0, 0, 0, 0, 0, 0, 0, 0, 0, 0, 0, 0, 0, 0, 0, 0, 0, 0, 0, 0, 0, 0, 0, 0, 0, 0, 0, 0, 0, 0, 0, 0, 0, 0, 0, 0, 0, 0, 0, 0, 0, 0, 0, 0, 0, 0, 0, 0, 0, 0, 0, 0, 0, 0, 0]\n"
          ]
        }
      ]
    },
    {
      "cell_type": "markdown",
      "source": [
        "Q4. What is the most effective way to initialise a list of 99 integers that repeats the sequence 1, 2, 3?\n",
        "S If necessary, show step-by-step instructions on how to accomplish this."
      ],
      "metadata": {
        "id": "xb-LWI7kOyTK"
      }
    },
    {
      "cell_type": "code",
      "source": [
        "my_list = [1,2,3]*33\n",
        "print(my_list)"
      ],
      "metadata": {
        "colab": {
          "base_uri": "https://localhost:8080/"
        },
        "id": "uwl_ulr1JGAJ",
        "outputId": "20b85c44-6e64-48c2-deb1-227fd3258b98"
      },
      "execution_count": 2,
      "outputs": [
        {
          "output_type": "stream",
          "name": "stdout",
          "text": [
            "[1, 2, 3, 1, 2, 3, 1, 2, 3, 1, 2, 3, 1, 2, 3, 1, 2, 3, 1, 2, 3, 1, 2, 3, 1, 2, 3, 1, 2, 3, 1, 2, 3, 1, 2, 3, 1, 2, 3, 1, 2, 3, 1, 2, 3, 1, 2, 3, 1, 2, 3, 1, 2, 3, 1, 2, 3, 1, 2, 3, 1, 2, 3, 1, 2, 3, 1, 2, 3, 1, 2, 3, 1, 2, 3, 1, 2, 3, 1, 2, 3, 1, 2, 3, 1, 2, 3, 1, 2, 3, 1, 2, 3, 1, 2, 3, 1, 2, 3]\n"
          ]
        }
      ]
    },
    {
      "cell_type": "markdown",
      "source": [
        "Q5. If you&#39;re using IDLE to run a Python application, explain how to print a multidimensional list as\n",
        "efficiently?"
      ],
      "metadata": {
        "id": "Q1JNEW6jipMD"
      }
    },
    {
      "cell_type": "code",
      "source": [
        "my_list = [[1,1],[2,2],[3,3],[4,4],[5,5]] # 2 dimensional List\n",
        "for x in range(len(my_list)):\n",
        "    for y in range(len(my_list[x])):\n",
        "        print(my_list[x][y],end=\" \")"
      ],
      "metadata": {
        "colab": {
          "base_uri": "https://localhost:8080/"
        },
        "id": "THqKo6D2JJR_",
        "outputId": "ba8b0e7e-6dde-4393-cf58-d8a2b3a9eefc"
      },
      "execution_count": 3,
      "outputs": [
        {
          "output_type": "stream",
          "name": "stdout",
          "text": [
            "1 1 2 2 3 3 4 4 5 5 "
          ]
        }
      ]
    },
    {
      "cell_type": "markdown",
      "source": [
        "Q6. Is it possible to use list comprehension with a string? If so, how can you go about doing it?"
      ],
      "metadata": {
        "id": "1_nRKOFT198X"
      }
    },
    {
      "cell_type": "markdown",
      "source": [
        "List comprehension with string is possible."
      ],
      "metadata": {
        "id": "_IRkXrvoJMN0"
      }
    },
    {
      "cell_type": "code",
      "source": [
        "my_list = [ele for ele in 'iNeuron']\n",
        "print(my_list)"
      ],
      "metadata": {
        "colab": {
          "base_uri": "https://localhost:8080/"
        },
        "id": "tvTqrZpYJNGd",
        "outputId": "479d9ff6-88c1-4f89-c0c3-542609195053"
      },
      "execution_count": 4,
      "outputs": [
        {
          "output_type": "stream",
          "name": "stdout",
          "text": [
            "['i', 'N', 'e', 'u', 'r', 'o', 'n']\n"
          ]
        }
      ]
    },
    {
      "cell_type": "markdown",
      "source": [
        "Q7. From the command line, how do you get support with a user-written Python programme? Is this\n",
        "possible from inside IDLE?"
      ],
      "metadata": {
        "id": "hRzDUFGi68Lp"
      }
    },
    {
      "cell_type": "markdown",
      "source": [
        "**Get support with a user-written Python Programme**: Start a command prompt (Windows) or terminal window (Linux/Mac). If the current working directory is the same as the location in which you saved the file, you can simply specify the filename as a command-line argument to the Python interpreter.\n",
        "\n",
        "**Get support with a User-written Python Program from IDLE**: You can also create script files and run them in IDLE. From the Shell window menu, select File → New File. That should open an additional editing window. Type in the code to be executed. From the menu in that window, select File → Save or File → Save As… and save the file to disk. Then select Run → Run Module. The output should appear back in the interpreter"
      ],
      "metadata": {
        "id": "OeuTRVlKJTCq"
      }
    },
    {
      "cell_type": "markdown",
      "source": [
        "Q8. Functions are said to be “first-class objects” in Python but not in most other languages, such as\n",
        "C++ or Java. What can you do in Python with a function (callable object) that you can&#39;t do in C or\n",
        "C++?"
      ],
      "metadata": {
        "id": "4l9aoRKw7A7r"
      }
    },
    {
      "cell_type": "markdown",
      "source": [
        "The tasks which can be performed with the functions in python are:\n",
        "\n",
        "* A function is an instance of the Object type.\n",
        "* You can store the function in a variable.\n",
        "* You can pass the function as a parameter to another function.\n",
        "* You can return the function from a function.\n",
        "* You can store them in data structures such as hash tables, lists,"
      ],
      "metadata": {
        "id": "nKEqSxaHJdAZ"
      }
    },
    {
      "cell_type": "markdown",
      "source": [
        "Q9. How do you distinguish between a wrapper, a wrapped feature, and a decorator?"
      ],
      "metadata": {
        "id": "anf4MlOd7C0m"
      }
    },
    {
      "cell_type": "markdown",
      "source": [
        " Wrappers Around the functions are known as Decrators."
      ],
      "metadata": {
        "id": "ucQKePUFJjj0"
      }
    },
    {
      "cell_type": "markdown",
      "source": [
        "Q10. If a function is a generator function, what does it return?"
      ],
      "metadata": {
        "id": "Rq1RTG-f7Ex3"
      }
    },
    {
      "cell_type": "markdown",
      "source": [
        "Generator functions are a special kind of function that return a **lazy iterator**. These are objects that you can loop over like a list. However, unlike lists, lazy iterators do not store their contents in memory."
      ],
      "metadata": {
        "id": "vYFUEIX1Jm1-"
      }
    },
    {
      "cell_type": "markdown",
      "source": [
        "Q11. What is the one improvement that must be made to a function in order for it to become a\n",
        "generator function in the Python language?"
      ],
      "metadata": {
        "id": "kZ-HsK477HHT"
      }
    },
    {
      "cell_type": "markdown",
      "source": [
        "Generator is a written as normal function but uses **yield** keyword to return values instead of **return** keyword."
      ],
      "metadata": {
        "id": "K2X9OSKVJt4x"
      }
    },
    {
      "cell_type": "markdown",
      "source": [
        "Q12. Identify at least one benefit of generators."
      ],
      "metadata": {
        "id": "s5cIG04R7JGw"
      }
    },
    {
      "cell_type": "markdown",
      "source": [
        "**return** statement sends a specified value back to its caller whereas **yield** statment can produce a sequence of values. We should use generator when we want to iterate over a sequence, but don’t want to store the entire sequence in memory."
      ],
      "metadata": {
        "id": "g_HrT7XaJ251"
      }
    },
    {
      "cell_type": "code",
      "execution_count": null,
      "metadata": {
        "id": "Szj-XWZlgp0_"
      },
      "outputs": [],
      "source": []
    }
  ]
}