{
  "nbformat": 4,
  "nbformat_minor": 0,
  "metadata": {
    "colab": {
      "provenance": [],
      "collapsed_sections": []
    },
    "kernelspec": {
      "name": "python3",
      "display_name": "Python 3"
    },
    "language_info": {
      "name": "python"
    }
  },
  "cells": [
    {
      "cell_type": "markdown",
      "source": [
        "Q1. Explain the difference between greedy and non-greedy syntax with visual terms in as few words\n",
        "as possible. What is the bare minimum effort required to transform a greedy pattern into a non-greedy\n",
        "one? What characters or characters can you introduce or change?"
      ],
      "metadata": {
        "id": "s-RQVuUhnz1M"
      }
    },
    {
      "cell_type": "markdown",
      "source": [
        ": The Main difference between Greedy and Non Greedy Match Syntax is The Greedy Match will try to match as many repetitions of the quantified pattern as possible Whereas The Non Greedy Match will try to match as few repetitions of the quantified pattern as possible"
      ],
      "metadata": {
        "id": "4CYEVrJEoKtg"
      }
    },
    {
      "cell_type": "code",
      "source": [
        "import re\n",
        "print(re.findall(\"v*\", \"vvvvvv\")) # Greedy Match Synatx\n",
        "print(re.findall(\"v*?\", \"vvvvvv\")) # Non Greddy Syntax"
      ],
      "metadata": {
        "colab": {
          "base_uri": "https://localhost:8080/"
        },
        "id": "sFQFwtRWoOXK",
        "outputId": "39b68dbf-222a-4a97-e880-af5d11268718"
      },
      "execution_count": 2,
      "outputs": [
        {
          "output_type": "stream",
          "name": "stdout",
          "text": [
            "['vvvvvv', '']\n",
            "['', 'v', '', 'v', '', 'v', '', 'v', '', 'v', '', 'v', '']\n"
          ]
        }
      ]
    },
    {
      "cell_type": "markdown",
      "source": [
        "Q2. When exactly does greedy versus non-greedy make a difference?  What if you&#39;re looking for a\n",
        "non-greedy match but the only one available is greedy?"
      ],
      "metadata": {
        "id": "2KC8kNnDn1QK"
      }
    },
    {
      "cell_type": "markdown",
      "source": [
        " The Greedy Match will try to match as many repetitions of the quantified pattern as possible. The Non Greedy Match will try to match as few repetitions of the quantified pattern as possible. If only Non Greedy Match is available, we can use other filtering or pattern matching methods of regex and further identify the required pattern."
      ],
      "metadata": {
        "id": "aLN9eMFdoTSY"
      }
    },
    {
      "cell_type": "markdown",
      "source": [
        "Q3. In a simple match of a string, which looks only for one match and does not do any replacement, is\n",
        "the use of a nontagged group likely to make any practical difference?"
      ],
      "metadata": {
        "id": "iIZ5QKGTn5_f"
      }
    },
    {
      "cell_type": "markdown",
      "source": [
        "In this Case The Non Tagged Group will not make any diffrence in this case."
      ],
      "metadata": {
        "id": "osL5_vuPocmP"
      }
    },
    {
      "cell_type": "code",
      "source": [
        "import re\n",
        "phoneNumRegex = re.compile(r'\\d\\d\\d')\n",
        "num = phoneNumRegex.search('My number is 234-567-8901.')\n",
        "print(f'Phone number found -> {num.group()}') # Non Tagged group\n",
        "print(f'Phone number found -> {num.group(0)}') # Tagged Group"
      ],
      "metadata": {
        "colab": {
          "base_uri": "https://localhost:8080/"
        },
        "id": "QHCaQSoNobsh",
        "outputId": "3a800b3e-e9bd-45e0-e087-8dde51cd3ff3"
      },
      "execution_count": 3,
      "outputs": [
        {
          "output_type": "stream",
          "name": "stdout",
          "text": [
            "Phone number found -> 234\n",
            "Phone number found -> 234\n"
          ]
        }
      ]
    },
    {
      "cell_type": "markdown",
      "source": [
        "Q4. Describe a scenario in which using a nontagged category would have a significant impact on the\n",
        "program&#39;s outcomes."
      ],
      "metadata": {
        "id": "WDnhR7Ifn8Hy"
      }
    },
    {
      "cell_type": "markdown",
      "source": [
        "Here in the below Code Snippet **`.`** decimal is not tagged or captured. It will useful in scenarios where the separator of value in a string is of no use and we need to capture only the values."
      ],
      "metadata": {
        "id": "Lnhjrmp-ohMd"
      }
    },
    {
      "cell_type": "code",
      "source": [
        "import re\n",
        "text='135.456'\n",
        "pattern=r'(\\d+)(?:.)(\\d+)'\n",
        "regobj=re.compile(pattern)\n",
        "matobj=regobj.search(text)\n",
        "matobj.groups()"
      ],
      "metadata": {
        "colab": {
          "base_uri": "https://localhost:8080/"
        },
        "id": "ChVG7UD6ooLw",
        "outputId": "8a1b519e-5773-4853-8a3e-7fc4bd988fdd"
      },
      "execution_count": 4,
      "outputs": [
        {
          "output_type": "execute_result",
          "data": {
            "text/plain": [
              "('135', '456')"
            ]
          },
          "metadata": {},
          "execution_count": 4
        }
      ]
    },
    {
      "cell_type": "markdown",
      "source": [
        "Q5. Unlike a normal regex pattern, a look-ahead condition does not consume the characters it\n",
        "examines. Describe a situation in which this could make a difference in the results of your\n",
        "programme."
      ],
      "metadata": {
        "id": "mt15tugEn86Q"
      }
    },
    {
      "cell_type": "markdown",
      "source": [
        "While counting the number of multiple lines or mutiple sentence in a string the positive look ahead makes a difference, without which we wont get the correct count of lines or sentences in a string."
      ],
      "metadata": {
        "id": "IzO5yHlDorw6"
      }
    },
    {
      "cell_type": "markdown",
      "source": [
        "Q6. In standard expressions, what is the difference between positive look-ahead and negative look-\n",
        "ahead?"
      ],
      "metadata": {
        "id": "dazppUj3n_z8"
      }
    },
    {
      "cell_type": "markdown",
      "source": [
        " Positive Lookahead allows to add a condition for **`what follows`**. Negative Lookahead is similar, but it looks behind. That is, it allows to match a pattern only if there’s something before it."
      ],
      "metadata": {
        "id": "wJe2EXifoutg"
      }
    },
    {
      "cell_type": "markdown",
      "source": [
        "Q7. What is the benefit of referring to groups by name rather than by number in a standard\n",
        "expression?"
      ],
      "metadata": {
        "id": "o3uNxABzoB0d"
      }
    },
    {
      "cell_type": "markdown",
      "source": [
        "Referring to groups by name rather than by number in a standard expression helps to keep the code clear and easy to understand."
      ],
      "metadata": {
        "id": "hXj52rLUo5nQ"
      }
    },
    {
      "cell_type": "markdown",
      "source": [
        "Q8. Can you identify repeated items within a target string using named groups, as in &quot;The cow\n",
        "jumped over the moon&quot;?"
      ],
      "metadata": {
        "id": "X6MwaBkFoCXx"
      }
    },
    {
      "cell_type": "code",
      "source": [
        "import re\n",
        "text = \"The cow jumped over the moon\"\n",
        "regobj=re.compile(r'(?PThe)',re.I)\n",
        "regobj.findall(text)"
      ],
      "metadata": {
        "id": "WQ-DCHsDphIv"
      },
      "execution_count": null,
      "outputs": []
    },
    {
      "cell_type": "markdown",
      "source": [
        "Q9. When parsing a string, what is at least one thing that the Scanner interface does for you that the\n",
        "re.findall feature does not?"
      ],
      "metadata": {
        "id": "GqdZ-sgVoGHz"
      }
    },
    {
      "cell_type": "markdown",
      "source": [
        "**`re.findall()`** module is used to search for **`all`** occurrences that match a given pattern. In contrast, **`re.search()`** will only return the first occurrence that matches the specified pattern. **`re.findall()`** will iterate over all the lines of the file and will return all non-overlapping matches of pattern in a single step."
      ],
      "metadata": {
        "id": "smGoiKp1pxY9"
      }
    },
    {
      "cell_type": "markdown",
      "source": [
        "Q10. Does a scanner object have to be named scanner?"
      ],
      "metadata": {
        "id": "Kf1me2HeoH74"
      }
    },
    {
      "cell_type": "markdown",
      "source": [
        "Yes, It may have any name."
      ],
      "metadata": {
        "id": "SdqgLw4CqIll"
      }
    }
  ]
}