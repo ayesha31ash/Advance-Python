{
  "nbformat": 4,
  "nbformat_minor": 0,
  "metadata": {
    "colab": {
      "provenance": [],
      "collapsed_sections": []
    },
    "kernelspec": {
      "name": "python3",
      "display_name": "Python 3"
    },
    "language_info": {
      "name": "python"
    }
  },
  "cells": [
    {
      "cell_type": "markdown",
      "source": [
        "1. Compare and contrast the float and Decimal classes&#39; benefits and drawbacks."
      ],
      "metadata": {
        "id": "bkzdecVdBnWh"
      }
    },
    {
      "cell_type": "markdown",
      "source": [
        "Both the `float` and `decimal` types store numerical values in Python.\n",
        "\n",
        "Use `floats` when convenience and speed matter. A float gives you an approximation of the number you declare.\n",
        "\n",
        "Use `decimals` when precision matters. `Decimals` can suffer from their own precision issues, but generally, decimals are more precise than `floats`. The performance difference between `float` and `decimal`, with Python 3, is not outlandish, and in my experience, the precision benefits of a `decimal` outweigh the performance benefits of a `float`."
      ],
      "metadata": {
        "id": "wGrBeHOaT9S4"
      }
    },
    {
      "cell_type": "markdown",
      "source": [
        "2. Decimal(&#39;1.200&#39;) and Decimal(&#39;1.2&#39;) are two objects to consider. In what sense are these the same\n",
        "object? Are these just two ways of representing the exact same value, or do they correspond to\n",
        "different internal states?"
      ],
      "metadata": {
        "id": "LitPWBsNBpkU"
      }
    },
    {
      "cell_type": "markdown",
      "source": [
        " Both values are same but internal representation at storage Is different. Precsion differs, `Decimal('1.200')` gives internally `1.200` and `Decimal('1.2')` gives `1.2`."
      ],
      "metadata": {
        "id": "iR8bmVp1Venl"
      }
    },
    {
      "cell_type": "markdown",
      "source": [
        "3. What happens if the equality of Decimal(&#39;1.200&#39;) and Decimal(&#39;1.2&#39;) is checked?"
      ],
      "metadata": {
        "id": "twVTerDoGFbg"
      }
    },
    {
      "cell_type": "markdown",
      "source": [
        "Both values are checked to be equal , they only differ in precision."
      ],
      "metadata": {
        "id": "pWumfmKcW69j"
      }
    },
    {
      "cell_type": "markdown",
      "source": [
        "4. Why is it preferable to start a Decimal object with a string rather than a floating-point value?"
      ],
      "metadata": {
        "id": "LGg918X8GJ-Q"
      }
    },
    {
      "cell_type": "markdown",
      "source": [
        " Floating-point value is converted to Decimal format. Decimal can store float value with absolute precision. But when float value is given as Decimal object,it first has to be converted from floating point value which might already have rounding error.\n",
        "\n",
        "Hence it is preferable to start a Decimal object with a string."
      ],
      "metadata": {
        "id": "IVXtRYn7W99u"
      }
    },
    {
      "cell_type": "markdown",
      "source": [
        "5. In an arithmetic phrase, how simple is it to combine Decimal objects with integers?"
      ],
      "metadata": {
        "id": "L2arnkTFGNJ-"
      }
    },
    {
      "cell_type": "markdown",
      "source": [
        "We can do it with use of `Decimal()`."
      ],
      "metadata": {
        "id": "QUjxmPO9XDd8"
      }
    },
    {
      "cell_type": "markdown",
      "source": [
        "6. Can Decimal objects and floating-point values be combined easily?"
      ],
      "metadata": {
        "id": "EEWn0RqC-Bzq"
      }
    },
    {
      "cell_type": "markdown",
      "source": [
        "Arithmetic operfations like Adding,subtracting or multiplying a Decimal object by a floating-point value is generates an error.\n",
        "\n",
        "To do these operations, the floating point has to be converted to a Decimal."
      ],
      "metadata": {
        "id": "xdUVYRHDXRB_"
      }
    },
    {
      "cell_type": "markdown",
      "source": [
        "7. Using the Fraction class but not the Decimal class, give an example of a quantity that can be\n",
        "expressed with absolute precision."
      ],
      "metadata": {
        "id": "mkTRHqqK-Dsc"
      }
    },
    {
      "cell_type": "markdown",
      "source": [
        "Value of 0.5 will be represented as ½."
      ],
      "metadata": {
        "id": "FqrIKazkXUlC"
      }
    },
    {
      "cell_type": "markdown",
      "source": [
        "8. Describe a quantity that can be accurately expressed by the Decimal or Fraction classes but not by\n",
        "a floating-point value."
      ],
      "metadata": {
        "id": "63bw3UUgT3oa"
      }
    },
    {
      "cell_type": "markdown",
      "source": [],
      "metadata": {
        "id": "uoeV_UQPXXki"
      }
    },
    {
      "cell_type": "markdown",
      "source": [
        "Q9.Consider the following two fraction objects: Fraction(1, 2) and Fraction(1, 2). (5, 10). Is the internal\n",
        "state of these two objects the same? Why do you think that is?"
      ],
      "metadata": {
        "id": "3K1MKkn1T4R2"
      }
    },
    {
      "cell_type": "markdown",
      "source": [
        "Both will be reduced to 1/2"
      ],
      "metadata": {
        "id": "Ea-q3m19Xahf"
      }
    },
    {
      "cell_type": "markdown",
      "source": [
        "Q10. How do the Fraction class and the integer type (int) relate to each other? Containment or\n",
        "inheritance?"
      ],
      "metadata": {
        "id": "5TzZTCTCT6RT"
      }
    },
    {
      "cell_type": "markdown",
      "source": [
        "Fraction class and integer type(int) are related in form of a container.It contains two ints, one the numerator and the other the denominator"
      ],
      "metadata": {
        "id": "yGSAkznrYlRt"
      }
    },
    {
      "cell_type": "code",
      "execution_count": null,
      "metadata": {
        "id": "xPxUTBfk_O86"
      },
      "outputs": [],
      "source": []
    }
  ]
}