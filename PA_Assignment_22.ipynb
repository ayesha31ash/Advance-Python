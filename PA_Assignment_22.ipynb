{
  "nbformat": 4,
  "nbformat_minor": 0,
  "metadata": {
    "colab": {
      "provenance": []
    },
    "kernelspec": {
      "name": "python3",
      "display_name": "Python 3"
    },
    "language_info": {
      "name": "python"
    }
  },
  "cells": [
    {
      "cell_type": "markdown",
      "source": [
        "Q1. What are the benefits of the built-in array package, if any?"
      ],
      "metadata": {
        "id": "Y5DpPwy9CG0F"
      }
    },
    {
      "cell_type": "markdown",
      "source": [
        "Arrays represent multiple data items of the same type using a single name. In arrays, the elements can be accessed randomly by using the index number. Arrays allocate memory in contiguous memory locations for all its elements. Hence there is no chance of extra memory being allocated in case of arrays. This avoids memory overflow or shortage of memory in arrays."
      ],
      "metadata": {
        "id": "hLG1BPAZIO68"
      }
    },
    {
      "cell_type": "markdown",
      "source": [
        "Q2. What are some of the array package&#39;s limitations?"
      ],
      "metadata": {
        "id": "6Ae9a-FlCJOn"
      }
    },
    {
      "cell_type": "markdown",
      "source": [
        "The number of elements to be stored in an array should be known in advance. An array is a static structure (which means the array is of fixed size). Once declared the size of the array cannot be modified. The memory which is allocated to it cannot be increased or decreased.\n",
        "\n",
        "Insertion and deletion are quite difficult in an array as the elements are stored in consecutive memory locations and the shifting operation is costly.\n",
        "\n",
        "Allocating more memory than the requirement leads to wastage of memory space and less allocation of memory also leads to a problem"
      ],
      "metadata": {
        "id": "ScdxCLOEISYb"
      }
    },
    {
      "cell_type": "markdown",
      "source": [
        "Q3. Describe the main differences between the array and numpy packages."
      ],
      "metadata": {
        "id": "vrsuLQkeCLB6"
      }
    },
    {
      "cell_type": "markdown",
      "source": [
        "The array package doesn't provide any help with numerical calculation with the items insdie it in number form while NumPy give you a wide variety of numerical operations.\n",
        "\n",
        "An array is a single dimensional entity which hold the numerical data, while numpy can have more than 1 dimension.\n",
        "\n",
        "In case of array, item can be accessed by its index position and it is easy task while in numpy item is accessed by its column and row index, which makes it slightly time taking. Same goes with appending operation.\n",
        "\n",
        "In case of array we do not form a tabular structure, while in numpy it forms a tabular structure"
      ],
      "metadata": {
        "id": "iTrMd7SaIZtb"
      }
    },
    {
      "cell_type": "markdown",
      "source": [
        "Q4. Explain the distinctions between the empty, ones, and zeros functions."
      ],
      "metadata": {
        "id": "wyqR4qN0JPEe"
      }
    },
    {
      "cell_type": "markdown",
      "source": [
        "The distinctions between the `empty`, `ones`, and `zero` functions are as follows :\n",
        "\n",
        "* **`Empty function`**: An empty function is a function that does not contain any statement within its body. If you try to write a function definition without any statement in python ,it will return an error. To avoid this, we use pass statement. pass is a special statement in Python that does nothing. It only works as a dummy statement.\n",
        "* **`Ones`**: This function returns a new array of given shape and data type, where the element’s value is 1.\n",
        "* **`Zeros`**: This function returns a new array of given shape and data type, where the element’s value is 0."
      ],
      "metadata": {
        "id": "eiZBJmfiIotx"
      }
    },
    {
      "cell_type": "markdown",
      "source": [
        "Q5. In the fromfunction function, which is used to construct new arrays, what is the role of the callable\n",
        "argument?"
      ],
      "metadata": {
        "id": "TjsLdcMRHzOK"
      }
    },
    {
      "cell_type": "markdown",
      "source": [
        " Its function is to execute the function over each coordinate and the resulting array. The function is called with N parameters, where N is the rank of shape. Each parameter represents the coordinates of the array varying along a specific axis."
      ],
      "metadata": {
        "id": "utr1xggRJTUj"
      }
    },
    {
      "cell_type": "markdown",
      "source": [
        "Q6. What happens when a numpy array is combined with a single-value operand (a scalar, such as\n",
        "an int or a floating-point value) through addition, as in the expression A + n?"
      ],
      "metadata": {
        "id": "ngt-PtpPH1Iu"
      }
    },
    {
      "cell_type": "markdown",
      "source": [
        " If any scaler value such as integer is added to the numpy array then all the elements inside the array will add that value in it."
      ],
      "metadata": {
        "id": "vmWnG1gYJYtt"
      }
    },
    {
      "cell_type": "markdown",
      "source": [
        "Q7. Can array-to-scalar operations use combined operation-assign operators (such as += or *=)?\n",
        "What is the outcome?"
      ],
      "metadata": {
        "id": "VpKYVLBQH3Ur"
      }
    },
    {
      "cell_type": "markdown",
      "source": [
        " It will carry out provided operation on all elements of array."
      ],
      "metadata": {
        "id": "EfBTopcjJbPH"
      }
    },
    {
      "cell_type": "markdown",
      "source": [
        "Q8. Does a numpy array contain fixed-length strings? What happens if you allocate a longer string to\n",
        "one of these arrays?"
      ],
      "metadata": {
        "id": "QIGyMo9UH47P"
      }
    },
    {
      "cell_type": "markdown",
      "source": [
        " Yes, it is possible that we can include a string of fixed length in numpy array. The dtype of any numpy array containing string values is the maximum length of any string present in the array.Once set, it will only be able to store new string having length not more than the maximum length at the time of the creation. If we try to reassign some another string value having length greater than the maximum length of the existing elements, it simply discards all the values beyond the maximum length accept upto those values which are under the limit."
      ],
      "metadata": {
        "id": "PUExACtUJen8"
      }
    },
    {
      "cell_type": "markdown",
      "source": [
        "Q9. What happens when you combine two numpy arrays using an operation like addition (+) or\n",
        "multiplication (*)? What are the conditions for combining two numpy arrays?"
      ],
      "metadata": {
        "id": "-BU17W9FH6-x"
      }
    },
    {
      "cell_type": "markdown",
      "source": [
        "It will simply add or multiply element to element at same position."
      ],
      "metadata": {
        "id": "HxFnsVccJiNZ"
      }
    },
    {
      "cell_type": "markdown",
      "source": [
        "Q10. What is the best way to use a Boolean array to mask another array?"
      ],
      "metadata": {
        "id": "mSCoGFH-H9Bd"
      }
    },
    {
      "cell_type": "markdown",
      "source": [
        "The best way to use a Boolean array to mask another array is by Using **`masked_where`** of numpy package"
      ],
      "metadata": {
        "id": "azGQhl37J0Y_"
      }
    },
    {
      "cell_type": "markdown",
      "source": [
        "Q11. What are three different ways to get the standard deviation of a wide collection of data using\n",
        "both standard Python and its packages? Sort the three of them by how quickly they execute."
      ],
      "metadata": {
        "id": "J0H-dblaH--I"
      }
    },
    {
      "cell_type": "markdown",
      "source": [
        "**`np.std`** and math package can be used individually."
      ],
      "metadata": {
        "id": "ooUS_uVEJ76z"
      }
    },
    {
      "cell_type": "markdown",
      "source": [
        "Q12. What is the dimensionality of a Boolean mask-generated array?"
      ],
      "metadata": {
        "id": "lvQro8znIA-r"
      }
    },
    {
      "cell_type": "markdown",
      "source": [
        "It will have same dimensionality as input array."
      ],
      "metadata": {
        "id": "YdOGgDY1KGff"
      }
    },
    {
      "cell_type": "code",
      "execution_count": null,
      "metadata": {
        "id": "grgBqB8Ie7-M"
      },
      "outputs": [],
      "source": []
    }
  ]
}