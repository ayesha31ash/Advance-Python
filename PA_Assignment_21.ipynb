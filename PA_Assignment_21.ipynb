{
  "nbformat": 4,
  "nbformat_minor": 0,
  "metadata": {
    "colab": {
      "provenance": []
    },
    "kernelspec": {
      "name": "python3",
      "display_name": "Python 3"
    },
    "language_info": {
      "name": "python"
    }
  },
  "cells": [
    {
      "cell_type": "markdown",
      "source": [
        "Q1. What is a probability distribution, exactly? If the values are meant to be random, how can you\n",
        "predict them at all?"
      ],
      "metadata": {
        "id": "KJlVoiUPVReo"
      }
    },
    {
      "cell_type": "markdown",
      "source": [
        "A probability distribution describes how a random variable is distributed.\n",
        "\n",
        "It tells us which values a random variable is most likely to take on and which values are less likely. Based on the previous data and the occurences of the random event, we can predict the outcome in terms of probabilities."
      ],
      "metadata": {
        "id": "bYpM4HHrVo3R"
      }
    },
    {
      "cell_type": "markdown",
      "source": [
        "Q2. Is there a distinction between true random numbers and pseudo-random numbers, if there is\n",
        "one? Why are the latter considered “good enough”?"
      ],
      "metadata": {
        "id": "tinpf_WZVSjM"
      }
    },
    {
      "cell_type": "markdown",
      "source": [
        "True Random Numbers are true physical values while pseudo-random numbers are generated internally by a program . Latter is considered good enough as they have sort of uniform distribution."
      ],
      "metadata": {
        "id": "qXKfzB-kVyw_"
      }
    },
    {
      "cell_type": "markdown",
      "source": [
        "Q3. What are the two main factors that influence the behaviour of a &quot;normal&quot; probability distribution?"
      ],
      "metadata": {
        "id": "3U-AXqZSVUt_"
      }
    },
    {
      "cell_type": "markdown",
      "source": [
        "Normal Probability Distribution are influenced by two factors mean and the variance."
      ],
      "metadata": {
        "id": "czpvJwsOd8Oy"
      }
    },
    {
      "cell_type": "markdown",
      "source": [
        "Q4. Provide a real-life example of a normal distribution."
      ],
      "metadata": {
        "id": "gh9vuUSHVXys"
      }
    },
    {
      "cell_type": "markdown",
      "source": [
        " A Real-life example of a normal distribution are heights or blood pressure measurements"
      ],
      "metadata": {
        "id": "I6o7OgV3d_Ck"
      }
    },
    {
      "cell_type": "markdown",
      "source": [
        "Q5. In the short term, how can you expect a probability distribution to behave? What do you think will\n",
        "happen as the number of trials grows?"
      ],
      "metadata": {
        "id": "Gi9VaC-xVaOx"
      }
    },
    {
      "cell_type": "markdown",
      "source": [
        "Variance will decrease with number of trials"
      ],
      "metadata": {
        "id": "8z02o2mVeGBx"
      }
    },
    {
      "cell_type": "markdown",
      "source": [
        "Q6. What kind of object can be shuffled by using random.shuffle?"
      ],
      "metadata": {
        "id": "nEiRt8ijVcSz"
      }
    },
    {
      "cell_type": "markdown",
      "source": [
        "lists (list), strings (str) and tuples (tuple) objects can be shuffled by using random.shuffle."
      ],
      "metadata": {
        "id": "7aYH5MeZeItf"
      }
    },
    {
      "cell_type": "markdown",
      "source": [
        "Q7. Describe the math package&#39;s general categories of functions."
      ],
      "metadata": {
        "id": "pA3gbMHqVeq4"
      }
    },
    {
      "cell_type": "markdown",
      "source": [
        " The Math package's general categories of functions are:\n",
        "\n",
        "1. Trigonometric functions\n",
        "2. Quadratic functions\n",
        "3. Exponential functions\n",
        "4. Hyperbolic functions\n",
        "5. Periodic functions\n",
        "6. Arithmetic functions\n",
        "7. Logarithimic functions\n",
        "8. Conversions to Integer"
      ],
      "metadata": {
        "id": "_gCDQoWgeNhx"
      }
    },
    {
      "cell_type": "markdown",
      "source": [
        "Q8. What is the relationship between exponentiation and logarithms?"
      ],
      "metadata": {
        "id": "pIQh_dOeVglh"
      }
    },
    {
      "cell_type": "markdown",
      "source": [
        "Exponentiation and logarithms are inverse of each other."
      ],
      "metadata": {
        "id": "I74lidaQeaul"
      }
    },
    {
      "cell_type": "markdown",
      "source": [
        "Q9. What are the three logarithmic functions that Python supports?"
      ],
      "metadata": {
        "id": "6k9cV-xxVltq"
      }
    },
    {
      "cell_type": "markdown",
      "source": [
        " The Three Logarithmic Functions that Python supports are:\n",
        "\n",
        "1. log2(x) - logarithmic value of x to base 2\n",
        "2. log10(x) - logarithmic value of x to base 10\n",
        "3. log1p(a) - This function is used to compute logarithm(1+a) ."
      ],
      "metadata": {
        "id": "xc3nuYCTebpD"
      }
    },
    {
      "cell_type": "code",
      "execution_count": null,
      "metadata": {
        "id": "q0Mfu1OIVQ9h"
      },
      "outputs": [],
      "source": []
    }
  ]
}