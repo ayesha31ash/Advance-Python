{
  "nbformat": 4,
  "nbformat_minor": 0,
  "metadata": {
    "colab": {
      "provenance": [],
      "collapsed_sections": []
    },
    "kernelspec": {
      "name": "python3",
      "display_name": "Python 3"
    },
    "language_info": {
      "name": "python"
    }
  },
  "cells": [
    {
      "cell_type": "markdown",
      "source": [
        "Q1. Does assigning a value to a string&#39;s indexed character violate Python&#39;s string immutability?"
      ],
      "metadata": {
        "id": "_HbCAjfjU22W"
      }
    },
    {
      "cell_type": "markdown",
      "source": [
        "String’s indexed character cannot to be assigned a New value , as Strings are **immutable**.\n",
        "\n",
        "**Example**:\n",
        "\n",
        "`name = \"Reinforcement\"`\n",
        "\n",
        "`print(id(name)) #73472`\n",
        "\n",
        "`name[0] = \"V\" # Raises TypeError`\n",
        "\n"
      ],
      "metadata": {
        "id": "yX38HiydVMBx"
      }
    },
    {
      "cell_type": "markdown",
      "source": [
        "Q2. Does using the += operator to concatenate strings violate Python&#39;s string immutability? Why or\n",
        "why not?"
      ],
      "metadata": {
        "id": "PyVXJaTXU4HU"
      }
    },
    {
      "cell_type": "markdown",
      "source": [
        "`+=` operator is used to concatenate strings, it does not violate Python’s string immutability Property. Because doing so new creates a new association with data and variable. E.g. `str_1=\"a\"` and `str_1+=\"b`. effect of this statements to create string `ab` and reassign it to variable `str_1`, any string data is not actually modified."
      ],
      "metadata": {
        "id": "iQVB_6ELVfsx"
      }
    },
    {
      "cell_type": "code",
      "source": [
        "str_1 = 'a'\n",
        "print(id(str_1))\n",
        "str_1 += 'b'\n",
        "print(id(str_1)) # Does not Modify existing string, Creates a New String Object"
      ],
      "metadata": {
        "colab": {
          "base_uri": "https://localhost:8080/",
          "height": 0
        },
        "id": "__d4w1uIVqkQ",
        "outputId": "66ba44c9-6c51-433c-a87b-d8c52de7343c"
      },
      "execution_count": 1,
      "outputs": [
        {
          "output_type": "stream",
          "name": "stdout",
          "text": [
            "140463334629680\n",
            "140462990941744\n"
          ]
        }
      ]
    },
    {
      "cell_type": "markdown",
      "source": [
        "Q3. In Python, how many different ways are there to index a character?"
      ],
      "metadata": {
        "id": "H4jgTmvBU6cp"
      }
    },
    {
      "cell_type": "markdown",
      "source": [
        "A Character in string can be indexed using string name followed by index number of character in square bracket. `Positive Indexing` i.e. first index is 0 an so on, or `Negative Indexing` i.e. last letter is -1 and so on can be used to index a character"
      ],
      "metadata": {
        "id": "-f_oC0lUVuv1"
      }
    },
    {
      "cell_type": "code",
      "source": [
        "in_string = \"iNeuron Full Stack Data Science\"\n",
        "print(in_string[9],in_string[10],in_string[2]) # Positive Indexing\n",
        "print(in_string[-1],in_string[-5],in_string[-2]) # Negative Indexing"
      ],
      "metadata": {
        "colab": {
          "base_uri": "https://localhost:8080/",
          "height": 0
        },
        "id": "vyZacRRjV0ng",
        "outputId": "5d914f4c-4557-4e86-a4a9-4585e3f38dad"
      },
      "execution_count": 2,
      "outputs": [
        {
          "output_type": "stream",
          "name": "stdout",
          "text": [
            "u l e\n",
            "e i c\n"
          ]
        }
      ]
    },
    {
      "cell_type": "markdown",
      "source": [
        "Q4. What is the relationship between indexing and slicing?"
      ],
      "metadata": {
        "id": "YKYF8mwJU82T"
      }
    },
    {
      "cell_type": "markdown",
      "source": [
        "We can access elements of sequence datatypes by using slicing and indexing. Indexing is used to obtaining individual element while slicing for sequence of elements."
      ],
      "metadata": {
        "id": "agJ8E4RmV5MK"
      }
    },
    {
      "cell_type": "code",
      "source": [
        "in_string = \"iNeuron Full Stack Data Science\"\n",
        "print(in_string[1],in_string[3],in_string[5]) # Indexing\n",
        "print(in_string[1:15]) # Slicing"
      ],
      "metadata": {
        "colab": {
          "base_uri": "https://localhost:8080/",
          "height": 0
        },
        "id": "ZVaIMvsnV77Z",
        "outputId": "3a72f7c9-e70e-4a92-f6e4-ed87d64d228a"
      },
      "execution_count": 3,
      "outputs": [
        {
          "output_type": "stream",
          "name": "stdout",
          "text": [
            "N u o\n",
            "Neuron Full St\n"
          ]
        }
      ]
    },
    {
      "cell_type": "markdown",
      "source": [
        "Q5. What is an indexed character&#39;s exact data type? What is the data form of a slicing-generated\n",
        "substring?"
      ],
      "metadata": {
        "id": "MT3g_gRJU_Ki"
      }
    },
    {
      "cell_type": "markdown",
      "source": [
        "Indexed characters and sliced substrings have datatype **String**."
      ],
      "metadata": {
        "id": "67mHn4O_WABf"
      }
    },
    {
      "cell_type": "code",
      "source": [
        "in_string = \"iNeuron Full Stack Data Science\"\n",
        "print(type(in_string[3])) # Indexing -> str\n",
        "print(type(in_string[1:10])) # Indexing -> str"
      ],
      "metadata": {
        "colab": {
          "base_uri": "https://localhost:8080/",
          "height": 0
        },
        "id": "rhNNIQbIWC95",
        "outputId": "8831d7db-d9fd-48cf-a126-8ca7c820173b"
      },
      "execution_count": 4,
      "outputs": [
        {
          "output_type": "stream",
          "name": "stdout",
          "text": [
            "<class 'str'>\n",
            "<class 'str'>\n"
          ]
        }
      ]
    },
    {
      "cell_type": "markdown",
      "source": [
        "Q6. What is the relationship between string and character &quot;types&quot; in Python?"
      ],
      "metadata": {
        "id": "tVOLii62VBST"
      }
    },
    {
      "cell_type": "markdown",
      "source": [
        "Object that contains sequence of character datatypes are called String."
      ],
      "metadata": {
        "id": "4QWITvE5WGG1"
      }
    },
    {
      "cell_type": "markdown",
      "source": [
        "Q7. Identify at least two operators and one method that allow you to combine one or more smaller\n",
        "strings to create a larger string."
      ],
      "metadata": {
        "id": "dnS8Aj8bVDmT"
      }
    },
    {
      "cell_type": "markdown",
      "source": [
        "`+`, `+=` and `*` allow to combine one or more smaller strings to create a larger string. `.join()` method joins element of iterable type like list and tuple to get a combined string."
      ],
      "metadata": {
        "id": "K6bmTJkpWJYh"
      }
    },
    {
      "cell_type": "code",
      "source": [
        "in_string = 'iNeuron '\n",
        "in_string += 'Full Stack Data Science'\n",
        "print(in_string + ' FSDS')\n",
        "print('FSDS '*3)\n",
        "print(\" \".join(['I','N','E','U','R','O','N'])) # List Iterable\n",
        "print(\" \".join(('I','N','E','U','R','O','N')).lower()) # Tuple Iterable"
      ],
      "metadata": {
        "colab": {
          "base_uri": "https://localhost:8080/",
          "height": 0
        },
        "id": "jFFOlINvWI5d",
        "outputId": "876163ca-8f64-488a-b5ed-a66b0ab2a047"
      },
      "execution_count": 5,
      "outputs": [
        {
          "output_type": "stream",
          "name": "stdout",
          "text": [
            "iNeuron Full Stack Data Science FSDS\n",
            "FSDS FSDS FSDS \n",
            "I N E U R O N\n",
            "i n e u r o n\n"
          ]
        }
      ]
    },
    {
      "cell_type": "markdown",
      "source": [
        "Q8. What is the benefit of first checking the target string with in or not in before using the index\n",
        "method to find a substring?"
      ],
      "metadata": {
        "id": "bo_yQVO5VFfa"
      }
    },
    {
      "cell_type": "markdown",
      "source": [
        "Checking the target string with**` in`** or**` not`** Operators before using the index method to find a substring just helps confirming availability of substring and thus avoid raising of**` ValueError`**.\n",
        "\n",
        "**Example:**\n",
        "\n",
        "`in_string = \"ineuron\"`\n",
        "\n",
        "`in_string.index('x') # Raises ValueError`\n",
        "\n",
        "`in_string.index('u') # 3`"
      ],
      "metadata": {
        "id": "AZIPcDSAWW5h"
      }
    },
    {
      "cell_type": "markdown",
      "source": [
        "Q9. Which operators and built-in string methods produce simple Boolean (true/false) results?"
      ],
      "metadata": {
        "id": "CeMZWhUMVHX0"
      }
    },
    {
      "cell_type": "markdown",
      "source": [
        "The String Operators and built-in methods to Produce Simple Boolean (True/False) Results are:\n",
        "\n",
        "in\n",
        "not\n",
        "* **`.isalpha()`**\n",
        "* **`.isalnum()`**\n",
        "* **`.isdecimal()`**\n",
        "* **`.isdigit()`**\n",
        "* **`.islower()`**\n",
        "* **`.isnumeric()`**\n",
        "* **`.isprintable()`**\n",
        "* **`.isspace()`**\n",
        "* **`.istitle()`**"
      ],
      "metadata": {
        "id": "SXq0vMDfWqcZ"
      }
    },
    {
      "cell_type": "code",
      "execution_count": null,
      "metadata": {
        "id": "SO5RnjbYUske"
      },
      "outputs": [],
      "source": []
    }
  ]
}