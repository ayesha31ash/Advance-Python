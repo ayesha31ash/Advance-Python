{
  "nbformat": 4,
  "nbformat_minor": 0,
  "metadata": {
    "colab": {
      "provenance": [],
      "collapsed_sections": []
    },
    "kernelspec": {
      "name": "python3",
      "display_name": "Python 3"
    },
    "language_info": {
      "name": "python"
    }
  },
  "cells": [
    {
      "cell_type": "markdown",
      "source": [
        "Q1. What is the purpose of Python&#39;s OOP?"
      ],
      "metadata": {
        "id": "5n1RA2aX5FXr"
      }
    },
    {
      "cell_type": "markdown",
      "source": [
        "Object-oriented programming is a programming paradigm that provides a means of structuring programs so that properties and behaviors are bundled into individual objects\n",
        "\n",
        "*  In Python, object-oriented Programming (OOPs) uses objects and classes in programming.\n",
        "*  It aims to implement real-world entities like inheritance, polymorphisms, encapsulation, etc. in the programming.\n",
        "*  The main concept of OOPs is to bind the data and the functions that work on that together as a single unit so that no other part of the code can access this data.\n",
        "*  It comes up with the following advantages:\n",
        "*  It helps to divide our over all program into different small segments and thus making it solving easy with the use of objects\n",
        "*  Helps in easy maintenance and modification of existing program\n",
        "*  Multiple instances of an object can be made."
      ],
      "metadata": {
        "id": "2I8IxBr65V_H"
      }
    },
    {
      "cell_type": "markdown",
      "source": [
        "Q2. Where does an inheritance search look for an attribute?"
      ],
      "metadata": {
        "id": "eLaAElu95Ggt"
      }
    },
    {
      "cell_type": "markdown",
      "source": [
        "Python searches for an attribute in an upward tree of attributes. it first searches for the attribute in its instance and then looks in the class it is generated from, to all super classes listed in its class header"
      ],
      "metadata": {
        "id": "Ac-2QQt_5uTf"
      }
    },
    {
      "cell_type": "markdown",
      "source": [
        "Q3. How do you distinguish between a class object and an instance object?"
      ],
      "metadata": {
        "id": "X-fICWDd5Id-"
      }
    },
    {
      "cell_type": "markdown",
      "source": [
        "The differences between a class object and an instance object are:\n",
        "\n",
        "1. Class is a template for creating objects whereas object is an instance of class\n",
        "2. Seperate memory is allocated for each object whenever an object is created. but for a class this doesnot happens.\n",
        "3. A Class is created once. Many objects are created using a class.\n",
        "4. As Classes have no allocated memory. they can't be manipulated. but objects can be manipulated."
      ],
      "metadata": {
        "id": "1Yoc33_e558p"
      }
    },
    {
      "cell_type": "markdown",
      "source": [
        "Q4. What makes the first argument in a class’s method function special?"
      ],
      "metadata": {
        "id": "IVHHw8ZK5KYU"
      }
    },
    {
      "cell_type": "markdown",
      "source": [
        "Python Classes usually have three types of methods which are:\n",
        "\n",
        "* Instance Methods (object level methods)\n",
        "* Class Methods (class level methods)\n",
        "* Static Methods (general utility methods)\n",
        "* **self** is the first argument for instance methods. which refers to the object itself\n",
        "* **cls** is the first argument for class methods which refers to the class itself"
      ],
      "metadata": {
        "id": "LdZek_dW6GPH"
      }
    },
    {
      "cell_type": "markdown",
      "source": [
        "Q5. What is the purpose of the __init__ method?"
      ],
      "metadata": {
        "id": "dGq0pKHc5MUt"
      }
    },
    {
      "cell_type": "markdown",
      "source": [
        "__init__ is a reseved method in python classes. It serves the role of a constructor in object oriented terminology. This method is called when an object is created from a class and it allows the class to initialize the attributes of the class"
      ],
      "metadata": {
        "id": "vAJxb4KV6S4D"
      }
    },
    {
      "cell_type": "markdown",
      "source": [
        "Q6. What is the process for creating a class instance?"
      ],
      "metadata": {
        "id": "Vnha25bo5OpL"
      }
    },
    {
      "cell_type": "markdown",
      "source": [
        "To create a class instance, we need to call the class by its name and pass the arguments to the class, which its init method accepts.\n",
        "\n",
        "**Example**: `my_name = my_class(\"Mano\",\"Ayesha\")` Here my_name is an instance of class my_class with attributes \"Mano\" and \"Vishnu\"."
      ],
      "metadata": {
        "id": "nsSlBBS66XGK"
      }
    },
    {
      "cell_type": "markdown",
      "source": [
        "Q7. What is the process for creating a class?"
      ],
      "metadata": {
        "id": "5Is4Vjh95QrP"
      }
    },
    {
      "cell_type": "markdown",
      "source": [
        "`class` keyword is used to created a class in python. The syntax to create a class in python is `class :`\n",
        "\n",
        "**Example**: `class Car:` ➞ this creates a class called Car"
      ],
      "metadata": {
        "id": "RW3vvMav6kPP"
      }
    },
    {
      "cell_type": "markdown",
      "source": [
        "Q8. How would you define the superclasses of a class?"
      ],
      "metadata": {
        "id": "N12GoNt85St6"
      }
    },
    {
      "cell_type": "markdown",
      "source": [
        "`class Employee(Person):` Here child class `Employee `inherits attributes and methofs from Superclass/Parent` Person`"
      ],
      "metadata": {
        "id": "rA2DKFnL6zhj"
      }
    }
  ]
}