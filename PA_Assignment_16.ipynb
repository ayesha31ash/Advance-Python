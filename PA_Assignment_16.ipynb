{
  "nbformat": 4,
  "nbformat_minor": 0,
  "metadata": {
    "colab": {
      "provenance": [],
      "collapsed_sections": []
    },
    "kernelspec": {
      "name": "python3",
      "display_name": "Python 3"
    },
    "language_info": {
      "name": "python"
    }
  },
  "cells": [
    {
      "cell_type": "markdown",
      "source": [
        "Q1. What is the benefit of regular expressions?"
      ],
      "metadata": {
        "id": "lsBuRe2ClX-r"
      }
    },
    {
      "cell_type": "markdown",
      "source": [
        "Regular Expressions, also known as **`regex`** or **`regexp`**, are used to match strings of text such as particular characters, words, or patterns of characters. It means that we can match and extract any string pattern from the text with the help of regular expressions. it helps the programmers to Write less and cleaner code. it also avoids multiple use of **`if/else`** statements."
      ],
      "metadata": {
        "id": "wXbI61wulr6C"
      }
    },
    {
      "cell_type": "markdown",
      "source": [
        "Q2. Describe the difference between the effects of &quot;(ab)c+&quot; and &quot;a(bc)+.&quot; Which of these, if any, is the\n",
        "unqualified pattern &quot;abc+&quot;?"
      ],
      "metadata": {
        "id": "PIkOMADHlY7N"
      }
    },
    {
      "cell_type": "markdown",
      "source": [
        " Both **`(ab)c+`** and **`a(bc)+`** are valid patterns. the difference between both these patterns is in **`(ab)c+ ab`** is group whereas in **`a(bc)+ bc`** is a group."
      ],
      "metadata": {
        "id": "5fw_gV6Ll6yt"
      }
    },
    {
      "cell_type": "markdown",
      "source": [
        "Q3. How much do you need to use the following sentence while using regular expressions?\n",
        "\n",
        "**`import re`**"
      ],
      "metadata": {
        "id": "A-K1rlyGlbQH"
      }
    },
    {
      "cell_type": "markdown",
      "source": [
        "**`import re`** statement always has to be imported before using regular expressions."
      ],
      "metadata": {
        "id": "He75_3VQmPbc"
      }
    },
    {
      "cell_type": "markdown",
      "source": [
        "Q4. Which characters have special significance in square brackets when expressing a range, and\n",
        "under what circumstances?"
      ],
      "metadata": {
        "id": "MlV714D3ldhg"
      }
    },
    {
      "cell_type": "markdown",
      "source": [
        "he Characters **`.`**,**`*`**,**`?`**,**`^`**or**`()`** have a special signiface when used with square brackets. They need not be be explicitly escaped by **`\\`** as in case of pattern texts in a raw string."
      ],
      "metadata": {
        "id": "y87KkHprmYij"
      }
    },
    {
      "cell_type": "markdown",
      "source": [
        "Q5. How does compiling a regular-expression object benefit you?"
      ],
      "metadata": {
        "id": "F11LE7T3lffy"
      }
    },
    {
      "cell_type": "markdown",
      "source": [
        "We can Combine a regular expression pattern into pattern Objects.Which can be used for pattern matching. it also helps to search a pattern again without rewritting it."
      ],
      "metadata": {
        "id": "EDk-bVT1myfF"
      }
    },
    {
      "cell_type": "markdown",
      "source": [
        "Q6. What are some examples of how to use the match object returned by re.match and re.search?"
      ],
      "metadata": {
        "id": "ULMvwk4WlhIJ"
      }
    },
    {
      "cell_type": "markdown",
      "source": [
        "The **`re.search()`** and **`re.match()`** both are functions of re module in python. These functions are very efficient and fast for searching in strings. The function searches for some substring in a string and returns a match object if found, else it returns none.\n",
        "\n",
        "There is a difference between the use of both functions. Both return the first match of a substring found in the string, but**`re.match()`** searches only from the beginning of the string and return match object if found. But if a match of substring is found somewhere in the middle of the string, it returns none.\n",
        "\n",
        "While **`re.search()`** searches for the whole string even if the string contains multi-lines and tries to find a match of the substring in all the lines of string"
      ],
      "metadata": {
        "id": "CY1uKOYDm39I"
      }
    },
    {
      "cell_type": "code",
      "source": [
        "import re\n",
        "Substring ='string' \n",
        "String1 ='We are learning regex with geeksforgeeks regex is very useful for string matching. It is fast too.' \n",
        "String2 ='string We are learning regex with geeksforgeeks regex is very useful for string matching. It is fast too.'\n",
        "print(re.search(Substring, String1, re.IGNORECASE))\n",
        "print(re.match(Substring, String1, re.IGNORECASE))\n",
        "print(re.search(Substring, String2, re.IGNORECASE))\n",
        "print(re.match(Substring, String2, re.IGNORECASE))"
      ],
      "metadata": {
        "colab": {
          "base_uri": "https://localhost:8080/"
        },
        "id": "8YIuGLNAnGRK",
        "outputId": "e6bc5cbc-144c-4547-a1be-6b12a118820e"
      },
      "execution_count": 1,
      "outputs": [
        {
          "output_type": "stream",
          "name": "stdout",
          "text": [
            "<re.Match object; span=(66, 72), match='string'>\n",
            "None\n",
            "<re.Match object; span=(0, 6), match='string'>\n",
            "<re.Match object; span=(0, 6), match='string'>\n"
          ]
        }
      ]
    },
    {
      "cell_type": "markdown",
      "source": [
        "Q7. What is the difference between using a vertical bar (|) as an alteration and using square brackets\n",
        "as a character set?"
      ],
      "metadata": {
        "id": "2UL1DVSgljN_"
      }
    },
    {
      "cell_type": "markdown",
      "source": [
        " When **`|`** us used then patterns searches for **`or`** option. i.e **`|`** means it searches as **`or<`** in the searched string. the first occurance of matched string will be returned as the Match Object. Using Character set in square Brackets searches for all the character set in the square bracket and if match is found, it returns it."
      ],
      "metadata": {
        "id": "JcgsU2_CnKn-"
      }
    },
    {
      "cell_type": "markdown",
      "source": [
        "Q8. In regular-expression search patterns, why is it necessary to use the raw-string indicator (r)? In  \n",
        "replacement strings?"
      ],
      "metadata": {
        "id": "azL6ZELxllB7"
      }
    },
    {
      "cell_type": "markdown",
      "source": [
        "Raw Strings are used in the regular-expression search patterns, so that blackslashes donot have to be escaped."
      ],
      "metadata": {
        "id": "PUbOuL0Nnftn"
      }
    },
    {
      "cell_type": "code",
      "execution_count": null,
      "metadata": {
        "id": "1uimkUTClTe7"
      },
      "outputs": [],
      "source": []
    }
  ]
}