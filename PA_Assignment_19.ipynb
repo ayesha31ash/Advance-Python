{
  "nbformat": 4,
  "nbformat_minor": 0,
  "metadata": {
    "colab": {
      "provenance": []
    },
    "kernelspec": {
      "name": "python3",
      "display_name": "Python 3"
    },
    "language_info": {
      "name": "python"
    }
  },
  "cells": [
    {
      "cell_type": "markdown",
      "source": [
        "Q1. Define the relationship between a class and its instances. Is it a one-to-one or a one-to-many\n",
        "partnership, for example?\n",
        "\n",
        "\n"
      ],
      "metadata": {
        "id": "UeSrJo_g8Rxq"
      }
    },
    {
      "cell_type": "markdown",
      "source": [
        "Relationship between a class and its instances is a one to many partnership."
      ],
      "metadata": {
        "id": "GFADBnbH9DKm"
      }
    },
    {
      "cell_type": "markdown",
      "source": [
        "Q2. What kind of data is held only in an instance?"
      ],
      "metadata": {
        "id": "9k5THoit8S-k"
      }
    },
    {
      "cell_type": "markdown",
      "source": [
        " Instance objects contains the Instance variables which are specific to that specific Instance object."
      ],
      "metadata": {
        "id": "G8BhWlP09D_H"
      }
    },
    {
      "cell_type": "markdown",
      "source": [
        "Q3. What kind of knowledge is stored in a class?"
      ],
      "metadata": {
        "id": "RRbPjHy_8V4u"
      }
    },
    {
      "cell_type": "markdown",
      "source": [
        "Class creates a user-defined data structure, which holds its own data members and member functions, which can be accessed and used by creating an instance of that class. A class is like a blueprint for an object.\n",
        "\n"
      ],
      "metadata": {
        "id": "BIESXILp9GPT"
      }
    },
    {
      "cell_type": "markdown",
      "source": [
        "Q4. What exactly is a method, and how is it different from a regular function?"
      ],
      "metadata": {
        "id": "2qZ7Varu8YN7"
      }
    },
    {
      "cell_type": "markdown",
      "source": [
        " The methods with a class can be used to access the insatnce variables of its instance. So,the object's state can be modified by its method. Function can't access the attributes of an instance of a class or can't modify the state of the object."
      ],
      "metadata": {
        "id": "79A1EdAw9JJv"
      }
    },
    {
      "cell_type": "markdown",
      "source": [
        "Q5. Is inheritance supported in Python, and if so, what is the syntax?"
      ],
      "metadata": {
        "id": "bZ-82S_M8aDT"
      }
    },
    {
      "cell_type": "markdown",
      "source": [
        "Yes,Python supports inheritance. The Types of Inheritence Supported by Python are:\n",
        "\n",
        "1. Simple Inheritence\n",
        "2. Multiple Inheritence\n",
        "3. Multilevel lInheritence\n",
        "4. Hybrid Inheritence\n",
        "5. Hierracial Inheritence"
      ],
      "metadata": {
        "id": "LtrUw_8K9ME-"
      }
    },
    {
      "cell_type": "code",
      "source": [
        "class Person:\n",
        "    def __init__(self, fname, lname):\n",
        "        self.first_name = fname\n",
        "        self.last_name = lname\n",
        "class Student(Person):\n",
        "    pass"
      ],
      "metadata": {
        "id": "H_U2z8Fa9aAu"
      },
      "execution_count": null,
      "outputs": []
    },
    {
      "cell_type": "markdown",
      "source": [
        "Q6. How much encapsulation (making instance or class variables private) does Python support?"
      ],
      "metadata": {
        "id": "anvuYhPG8cBh"
      }
    },
    {
      "cell_type": "markdown",
      "source": [
        "Encapsulation describes the idea of wrapping data and the methods that work on data within one unit. This puts restrictions on accessing variables and methods directly and can prevent the accidental modification of data. To prevent accidental change, an objects variable can only be changed by an objects method."
      ],
      "metadata": {
        "id": "SGG3-t8f9eko"
      }
    },
    {
      "cell_type": "markdown",
      "source": [
        "Q7. How do you distinguish between a class variable and an instance variable?"
      ],
      "metadata": {
        "id": "-CanbpeC8lqY"
      }
    },
    {
      "cell_type": "markdown",
      "source": [
        "he **`Class Attribute`** is available to all the instance objects of that class. whereas**` Instance Attributes`** are accessible only to the object or Instance of that class.\n",
        "\n",
        "A single copy of Class attributes is maintained by pvm at the class level. Whereas difference copies of instance attributes are maintained by pvm at objects/instance level."
      ],
      "metadata": {
        "id": "i73x2v5-9iXG"
      }
    },
    {
      "cell_type": "markdown",
      "source": [
        "Q8. When, if ever, can self be included in a class&#39;s method definitions?"
      ],
      "metadata": {
        "id": "gJMMlz6U8ndg"
      }
    },
    {
      "cell_type": "markdown",
      "source": [
        "Yes, self can included in class method definations to access the instance variables inside class methods."
      ],
      "metadata": {
        "id": "yd_iXL8r9xNS"
      }
    },
    {
      "cell_type": "markdown",
      "source": [
        "Q9. What is the difference between the **`__add__ `**and the **`__radd__`** methods?"
      ],
      "metadata": {
        "id": "pWa28W3Y8rBj"
      }
    },
    {
      "cell_type": "markdown",
      "source": [
        "Entering **`__radd__`** Python will first try **`__add__()`**, and if that returns Not Implemented Python will check if the right-hand operand implements **`__radd__`**, and if it does, it will call **`__radd__()`** rather than raising a TypeError"
      ],
      "metadata": {
        "id": "QPKw0eZZ-Enk"
      }
    },
    {
      "cell_type": "markdown",
      "source": [
        "Q10. When is it necessary to use a reflection method? When do you not need it, even though you\n",
        "support the operation in question?"
      ],
      "metadata": {
        "id": "B4_KpW-K8uM5"
      }
    },
    {
      "cell_type": "markdown",
      "source": [
        "Reflection method we often encounter the requirement that a method in the executing object, or a variable in the calling object, or a field of the object should be assigned, while the method name or field name can not be determined when encoding the code, and need to be input in the form of passing strings through parameters."
      ],
      "metadata": {
        "id": "nrwIsSLu-UPc"
      }
    },
    {
      "cell_type": "markdown",
      "source": [
        "Q11. What is the **`__iadd__`** method called?"
      ],
      "metadata": {
        "id": "EixScdI68xNY"
      }
    },
    {
      "cell_type": "markdown",
      "source": [
        "**`__iadd__`** method is called when we use implementation like a+=b which is **`a.__iadd__(b)`**"
      ],
      "metadata": {
        "id": "zxq-bh66-fsj"
      }
    },
    {
      "cell_type": "markdown",
      "source": [
        "Q12. Is the**`__init__`** method inherited by subclasses? What do you do if you need to customize its\n",
        "behavior within a subclass?"
      ],
      "metadata": {
        "id": "YiK67fLj8zjS"
      }
    },
    {
      "cell_type": "markdown",
      "source": [
        " Yes, **`__init__`** method will be inherited by subclasses. if we want to customize its behaviour within a subclass we can use **`super()`** method."
      ],
      "metadata": {
        "id": "4hxpFl6d-o60"
      }
    }
  ]
}