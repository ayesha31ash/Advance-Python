{
  "nbformat": 4,
  "nbformat_minor": 0,
  "metadata": {
    "colab": {
      "provenance": [],
      "collapsed_sections": []
    },
    "kernelspec": {
      "name": "python3",
      "display_name": "Python 3"
    },
    "language_info": {
      "name": "python"
    }
  },
  "cells": [
    {
      "cell_type": "markdown",
      "source": [
        "1. What is the concept of an abstract superclass?"
      ],
      "metadata": {
        "id": "FmN8Tn9uTZrg"
      }
    },
    {
      "cell_type": "markdown",
      "source": [
        "An abstract class/superclass can be considered as a blueprint for other classes. It allows you to create a set of methods that must be created within any child classes built from the abstract class. A class which contains one or more abstract methods is called an abstract class.\n",
        "\n",
        "Whereas an abstract method is a method that has a declaration but does not have an implementation"
      ],
      "metadata": {
        "id": "IvZex-8Etgdm"
      }
    },
    {
      "cell_type": "code",
      "source": [
        "from abc import ABC, abstractmethod\n",
        "class Polygon(ABC): # Abstract Class\n",
        "    @abstractmethod\n",
        "    def noofsides(self): # Abstract Method\n",
        "        pass\n",
        "class Triangle(Polygon):\n",
        "    def noofsides(self):  # overriding abstract method in child class Triangle\n",
        "        print(\"I have 3 sides\")\n",
        "class Pentagon(Polygon):\n",
        "    def noofsides(self): # overriding abstract method in child class Pentagon\n",
        "        print(\"I have 5 sides\")"
      ],
      "metadata": {
        "id": "K3dZLhUJ3t0k"
      },
      "execution_count": 1,
      "outputs": []
    },
    {
      "cell_type": "markdown",
      "source": [
        "2. What happens when a class statement&#39;s top level contains a basic assignment statement?"
      ],
      "metadata": {
        "id": "OYnmhO45TczY"
      }
    },
    {
      "cell_type": "markdown",
      "source": [
        "When a Class statement's top level contains a basic assignment statement, its usually treated as a class attribute or class level variable.\n",
        "\n",
        "where as assignment statements inside methods are treated as instance attributes or local attributes.\n",
        "\n",
        "When an instance of a class is created a single copy of class attributes is maintained and shared to all instances of class. where as each instance object maintains its own copy of instance variables."
      ],
      "metadata": {
        "id": "pXE3xMYg3yVR"
      }
    },
    {
      "cell_type": "code",
      "source": [
        "class Person:\n",
        "    species = 'Homesapiens' # class attribute\n",
        "    def __init__(self,name,gender):\n",
        "        self.name = name # instance attributes\n",
        "        self.gender = gender"
      ],
      "metadata": {
        "id": "ZFHZ1B2HL4Uy"
      },
      "execution_count": 1,
      "outputs": []
    },
    {
      "cell_type": "markdown",
      "source": [
        "3. Why does a class need to manually call a superclass&#39;s __init__ method?"
      ],
      "metadata": {
        "id": "hUXkYFUwrFEC"
      }
    },
    {
      "cell_type": "markdown",
      "source": [
        "if a child class has` __init__` method, then it will not inherit the `__init__` method of the parent class. in other words the `__init__ `method of the child class overrides the `__init__` method of the parent class. so we have to manually call a parent superclass's `__init__` using `super()` method"
      ],
      "metadata": {
        "id": "AaNgeKgXL-zh"
      }
    },
    {
      "cell_type": "code",
      "source": [
        "class Person:\n",
        "    def __init__(self,name,age):\n",
        "        self.name = name\n",
        "        self.age = age       \n",
        "class Employee(Person):\n",
        "    def __init__(self,name,age,salary):\n",
        "        super().__init__(name,age)\n",
        "        self.salary = salary\n",
        "emp_1 = Employee('Vivek',28,20000)\n",
        "print(emp_1.__dict__)"
      ],
      "metadata": {
        "colab": {
          "base_uri": "https://localhost:8080/"
        },
        "id": "_HuSPkeRMKnP",
        "outputId": "d0b45779-2ff0-4c66-984e-15ff651170f3"
      },
      "execution_count": 2,
      "outputs": [
        {
          "output_type": "stream",
          "name": "stdout",
          "text": [
            "{'name': 'Vivek', 'age': 28, 'salary': 20000}\n"
          ]
        }
      ]
    },
    {
      "cell_type": "markdown",
      "source": [
        "4. How can you augment, instead of completely replacing, an inherited method?"
      ],
      "metadata": {
        "id": "NaszGdSxrG8H"
      }
    },
    {
      "cell_type": "markdown",
      "source": [
        "`super()` method can be used to augment, instead of completely replacing, an inherited method."
      ],
      "metadata": {
        "id": "qpqO7CEMMS3p"
      }
    },
    {
      "cell_type": "code",
      "source": [
        "class Person:\n",
        "    def __init__(self,name,gender):\n",
        "        self.name = name\n",
        "        self.gender = gender\n",
        "class Employee(Person):\n",
        "    def __init__(self,name,gender,salary):\n",
        "        super().__init__(name,gender) \n",
        "        self.salary = salary\n",
        "emp_1 = Employee('Vivek','Male',10000)\n",
        "print(emp_1.__dict__)     "
      ],
      "metadata": {
        "colab": {
          "base_uri": "https://localhost:8080/"
        },
        "id": "7S7m6o4aMURv",
        "outputId": "4a91c3e2-87c0-41ad-ec32-8e9d8f9b6264"
      },
      "execution_count": 3,
      "outputs": [
        {
          "output_type": "stream",
          "name": "stdout",
          "text": [
            "{'name': 'Vivek', 'gender': 'Male', 'salary': 10000}\n"
          ]
        }
      ]
    },
    {
      "cell_type": "markdown",
      "source": [
        "5. How is the local scope of a class different from that of a function?"
      ],
      "metadata": {
        "id": "IdnYqStArI0M"
      }
    },
    {
      "cell_type": "markdown",
      "source": [
        " A Variable which is defined inside a function is local to that function. it is accesible from the point at which it is defined until the end of the function, and exists for as long as the function is existing.\n",
        "\n",
        "Similary a variable inside of a class also has a local variable scope. Variables which are defined in the class body (but outside all methods) are called as class level variables or class attributes. they can be referenced by there bare names within the same scope, but they can also be accessed from outside this scope if we use the attribute access operator `(.)`. on a class or an instance of the class."
      ],
      "metadata": {
        "id": "3GMj0t9ZMYrM"
      }
    },
    {
      "cell_type": "code",
      "execution_count": 4,
      "metadata": {
        "colab": {
          "base_uri": "https://localhost:8080/"
        },
        "id": "8hTmRqPZBnGd",
        "outputId": "f01d765e-48eb-44f6-d911-3e0a8d2e2d49"
      },
      "outputs": [
        {
          "output_type": "stream",
          "name": "stdout",
          "text": [
            "you're name is Mano Vishnu\n",
            "Name varible is not available outside hello function scope\n",
            "HomeSapines\n",
            "HomeSapines\n"
          ]
        }
      ],
      "source": [
        "def hello(name):\n",
        "    name = name\n",
        "    print(f'you\\'re name is {name}')\n",
        "hello('Mano Vishnu')\n",
        "try:\n",
        "    name\n",
        "except NameError:\n",
        "    print('Name varible is not available outside hello function scope')\n",
        "\n",
        "class Person:\n",
        "    species = \"HomeSapines\"\n",
        "    def __init__(self):\n",
        "        pass\n",
        "print(Person.species) # Accessing species using class name\n",
        "Male = Person()\n",
        "print(Male.species) # Accessing species using instance of class"
      ]
    }
  ]
}